{
 "cells": [
  {
   "cell_type": "code",
   "execution_count": 1,
   "id": "80198b78-3dc2-43a1-88f6-94652571ca70",
   "metadata": {},
   "outputs": [
    {
     "name": "stdout",
     "output_type": "stream",
     "text": [
      "\n",
      "SELECT * FROM table WHERE name IN ('a1','a2','a3')\n",
      "\n"
     ]
    }
   ],
   "source": [
    "# If you have table with columns (id, value) \n",
    "# and you need to make WHERE clause from list:\n",
    "values_for_clause = ['a1', 'a2', 'a3']\n",
    "select_sql = f\"\"\"\n",
    "SELECT * FROM table WHERE name IN ({','.join(f\"'{x}'\" for x in values_for_clause)})\n",
    "\"\"\"\n",
    "print(select_sql)"
   ]
  }
 ],
 "metadata": {
  "kernelspec": {
   "display_name": "Python 3 (ipykernel)",
   "language": "python",
   "name": "python3"
  },
  "language_info": {
   "codemirror_mode": {
    "name": "ipython",
    "version": 3
   },
   "file_extension": ".py",
   "mimetype": "text/x-python",
   "name": "python",
   "nbconvert_exporter": "python",
   "pygments_lexer": "ipython3",
   "version": "3.12.1"
  }
 },
 "nbformat": 4,
 "nbformat_minor": 5
}

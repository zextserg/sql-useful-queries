{
 "cells": [
  {
   "cell_type": "code",
   "execution_count": 4,
   "id": "80198b78-3dc2-43a1-88f6-94652571ca70",
   "metadata": {},
   "outputs": [
    {
     "name": "stdout",
     "output_type": "stream",
     "text": [
      "\n",
      "INSERT INTO table (id, username, category) VALUES \n",
      "('1','u1','c1'),\n",
      "('2','u2','c2'),\n",
      "('3','u3','c3');\n",
      "\n"
     ]
    }
   ],
   "source": [
    "# If you have table with columns (id, username, category) \n",
    "# and you need to insert values from list of dicts:\n",
    "values_to_insert = [\n",
    "    {'id': 1, 'username': 'u1', 'category': 'c1'},\n",
    "    {'id': 2, 'username': 'u2', 'category': 'c2'},\n",
    "    {'id': 3, 'username': 'u3', 'category': 'c3'},\n",
    "]\n",
    "insert_sql = f\"\"\"\n",
    "INSERT INTO table (id, username, category) VALUES \n",
    "{\",\\n\".join(f\"('{x['id']}','{x['username']}','{x['category']}')\" for x in values_to_insert)};\n",
    "\"\"\"\n",
    "print(insert_sql)"
   ]
  }
 ],
 "metadata": {
  "kernelspec": {
   "display_name": "Python 3 (ipykernel)",
   "language": "python",
   "name": "python3"
  },
  "language_info": {
   "codemirror_mode": {
    "name": "ipython",
    "version": 3
   },
   "file_extension": ".py",
   "mimetype": "text/x-python",
   "name": "python",
   "nbconvert_exporter": "python",
   "pygments_lexer": "ipython3",
   "version": "3.12.1"
  }
 },
 "nbformat": 4,
 "nbformat_minor": 5
}

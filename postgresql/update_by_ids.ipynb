{
 "cells": [
  {
   "cell_type": "code",
   "execution_count": 3,
   "id": "80198b78-3dc2-43a1-88f6-94652571ca70",
   "metadata": {},
   "outputs": [
    {
     "name": "stdout",
     "output_type": "stream",
     "text": [
      "\n",
      "UPDATE table SET \n",
      "    \tvalue = temp.new_value\n",
      "    FROM\n",
      "    (\n",
      "  \t  SELECT *\n",
      "  \t  FROM unnest(\n",
      "  \t              ARRAY[1, 2, 3],\n",
      "  \t              ARRAY['n1', 'n2', 'n3']\n",
      "  \t             ) AS t(temp_id, new_value)\n",
      "    ) as temp\n",
      "    WHERE table.id = temp.temp_id;\n",
      "\n"
     ]
    }
   ],
   "source": [
    "# If you have table with columns (id, value) \n",
    "# and you need to update value by list of new values for corresponding list of ids:\n",
    "new_values_by_ids = [\n",
    "    {'id': 1, 'new_value': 'n1'},\n",
    "    {'id': 2, 'new_value': 'n2'},\n",
    "    {'id': 3, 'new_value': 'n3'},\n",
    "]\n",
    "update_sql = f\"\"\"\n",
    "UPDATE table SET \n",
    "    \tvalue = temp.new_value\n",
    "    FROM\n",
    "    (\n",
    "  \t  SELECT *\n",
    "  \t  FROM unnest(\n",
    "  \t              ARRAY{[x['id'] for x in new_values_by_ids]},\n",
    "  \t              ARRAY{[x['new_value'] for x in new_values_by_ids]}\n",
    "  \t             ) AS t(temp_id, new_value)\n",
    "    ) as temp\n",
    "    WHERE table.id = temp.temp_id;\n",
    "\"\"\"\n",
    "print(update_sql)"
   ]
  }
 ],
 "metadata": {
  "kernelspec": {
   "display_name": "Python 3 (ipykernel)",
   "language": "python",
   "name": "python3"
  },
  "language_info": {
   "codemirror_mode": {
    "name": "ipython",
    "version": 3
   },
   "file_extension": ".py",
   "mimetype": "text/x-python",
   "name": "python",
   "nbconvert_exporter": "python",
   "pygments_lexer": "ipython3",
   "version": "3.12.1"
  }
 },
 "nbformat": 4,
 "nbformat_minor": 5
}
